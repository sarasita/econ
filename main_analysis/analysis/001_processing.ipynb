{
 "cells": [
  {
   "cell_type": "code",
   "execution_count": 1,
   "id": "9217881b",
   "metadata": {},
   "outputs": [],
   "source": [
    "from pathlib import Path\n",
    "import os\n",
    "import sys\n",
    "\n",
    "sys.path.append(Path(os.path.abspath('')).parent.parent)\n",
    "os.chdir(Path(os.path.abspath('')).parent.parent)\n",
    "\n",
    "import numpy as np\n",
    "import pandas as pd \n",
    "import xarray as xr\n",
    "import geopandas as gpd \n",
    "from shapely import box\n",
    "\n",
    "import config.settings as cset\n",
    "\n",
    "import matplotlib.pyplot as plt\n",
    "import seaborn as sns\n",
    "from matplotlib import colormaps as cm\n",
    "from mpl_toolkits.axes_grid1 import make_axes_locatable\n",
    "from config.settings import (labelsize_small, \n",
    "                            labelsize_medium, \n",
    "                            labelsize_large,\n",
    "                            )\n",
    "\n",
    "from tqdm.notebook import tqdm"
   ]
  },
  {
   "cell_type": "markdown",
   "id": "9eca6ef9",
   "metadata": {},
   "source": [
    "### Processing GDP "
   ]
  },
  {
   "cell_type": "code",
   "execution_count": 2,
   "id": "954782e5",
   "metadata": {},
   "outputs": [
    {
     "data": {
      "application/json": {
       "ascii": false,
       "bar_format": null,
       "colour": null,
       "elapsed": 0.014243125915527344,
       "initial": 0,
       "n": 0,
       "ncols": null,
       "nrows": null,
       "postfix": null,
       "prefix": "",
       "rate": null,
       "total": 3,
       "unit": "it",
       "unit_divisor": 1000,
       "unit_scale": false
      },
      "application/vnd.jupyter.widget-view+json": {
       "model_id": "815e69a120ec4b868156290f0ebaf3d5",
       "version_major": 2,
       "version_minor": 0
      },
      "text/plain": [
       "  0%|          | 0/3 [00:00<?, ?it/s]"
      ]
     },
     "metadata": {},
     "output_type": "display_data"
    }
   ],
   "source": [
    "gdp_dfs = []\n",
    "\n",
    "files = cset.GDP_files\n",
    "dataset_names = cset.GDP_interim_dataset_names\n",
    "cset.path_INTERIM_GDP.mkdir(parents = True, exist_ok = True)\n",
    "\n",
    "for i, file in tqdm(enumerate(files), total  = 3):\n",
    "    df = pd.read_csv(file).loc[:, ['iso', 'year', 'run', 'scen', 'SSP2_clim', 'SSP2']]\n",
    "    df = df.loc[:, ['iso', 'year', 'run', 'scen', 'SSP2_clim', 'SSP2']].copy()\n",
    "    # if not i == 2:\n",
    "    #     df['run'] = df['run'].str.split('_').str[1]\n",
    "    df.loc[df.scen == 'Refp5', 'scen'] = 'Ref1p5'\n",
    "    df['run'] = [f.split('_')[-1] for f in df['run'].astype(str)]\n",
    "    df = df[df.scen != 'Ref1p5']\n",
    "    df.loc[df.scen == 'Refv2', 'scen'] = 'Ref'\n",
    "    df['scen_run'] = df['scen'] + '_' + df['run'].astype(str)\n",
    "    df['SSP2_diff'] = df['SSP2_clim']/df['SSP2']\n",
    "    df.reset_index(drop = True, inplace = True)\n",
    "    df.to_csv(cset.path_INTERIM_GDP / f'{dataset_names[i]}', index = False)\n",
    "    gdp_dfs.append(df)\n",
    "    del df "
   ]
  },
  {
   "cell_type": "markdown",
   "id": "bb744e81",
   "metadata": {},
   "source": [
    "### Computing Peak GDP impacts "
   ]
  },
  {
   "cell_type": "code",
   "execution_count": 8,
   "id": "b85c861e",
   "metadata": {},
   "outputs": [],
   "source": [
    "gmt_ds = pd.read_csv(cset.path_MESMER_char / f'gmt_dataset.csv', index_col = 0)\n",
    "peak_gmt_year = gmt_ds.idxmax(axis = 0).astype(int)"
   ]
  },
  {
   "cell_type": "code",
   "execution_count": 3,
   "id": "ef48b8af",
   "metadata": {},
   "outputs": [
    {
     "data": {
      "application/json": {
       "ascii": false,
       "bar_format": null,
       "colour": null,
       "elapsed": 0.007586002349853516,
       "initial": 0,
       "n": 0,
       "ncols": null,
       "nrows": null,
       "postfix": null,
       "prefix": "",
       "rate": null,
       "total": 60,
       "unit": "it",
       "unit_divisor": 1000,
       "unit_scale": false
      },
      "application/vnd.jupyter.widget-view+json": {
       "model_id": "7311d313730441c99c6b59b80556335b",
       "version_major": 2,
       "version_minor": 0
      },
      "text/plain": [
       "  0%|          | 0/60 [00:00<?, ?it/s]"
      ]
     },
     "metadata": {},
     "output_type": "display_data"
    },
    {
     "data": {
      "application/json": {
       "ascii": false,
       "bar_format": null,
       "colour": null,
       "elapsed": 0.004587888717651367,
       "initial": 0,
       "n": 0,
       "ncols": null,
       "nrows": null,
       "postfix": null,
       "prefix": "",
       "rate": null,
       "total": 60,
       "unit": "it",
       "unit_divisor": 1000,
       "unit_scale": false
      },
      "application/vnd.jupyter.widget-view+json": {
       "model_id": "bde042d00e0543dba5a835e0cfea7095",
       "version_major": 2,
       "version_minor": 0
      },
      "text/plain": [
       "  0%|          | 0/60 [00:00<?, ?it/s]"
      ]
     },
     "metadata": {},
     "output_type": "display_data"
    },
    {
     "data": {
      "application/json": {
       "ascii": false,
       "bar_format": null,
       "colour": null,
       "elapsed": 0.0036330223083496094,
       "initial": 0,
       "n": 0,
       "ncols": null,
       "nrows": null,
       "postfix": null,
       "prefix": "",
       "rate": null,
       "total": 60,
       "unit": "it",
       "unit_divisor": 1000,
       "unit_scale": false
      },
      "application/vnd.jupyter.widget-view+json": {
       "model_id": "94ffd9f4fe0141eabaa51bbc66d868c2",
       "version_major": 2,
       "version_minor": 0
      },
      "text/plain": [
       "  0%|          | 0/60 [00:00<?, ?it/s]"
      ]
     },
     "metadata": {},
     "output_type": "display_data"
    }
   ],
   "source": [
    "country_isos = gdp_dfs[0]['iso'].unique()\n",
    "gmt_ds = pd.read_csv(cset.path_MESMER_char / f'gmt_dataset.csv', index_col = 0)\n",
    "peak_gmt_year = gmt_ds.idxmax(axis = 0).astype(int)\n",
    "peak_gdp_impacts = [pd.DataFrame(columns = gmt_ds.columns, index = country_isos) for _ in range(3)]\n",
    "for i, gdp_df in enumerate(gdp_dfs):\n",
    "    for year in tqdm(peak_gmt_year.unique(), total = len(peak_gmt_year.unique())):\n",
    "        scenarios = peak_gmt_year[peak_gmt_year == year].index\n",
    "        filtered_df = gdp_df[(gdp_df['year'] == year) & (gdp_df['scen_run'].isin(scenarios))]\n",
    "        for scenario in scenarios: \n",
    "            peak_gdp_impacts[i][scenario] = filtered_df[(filtered_df['scen_run'] == scenario)].set_index('iso')['SSP2_diff'].values\n",
    "    cset.path_OUT_PW.mkdir(parents = True, exist_ok = True)\n",
    "    peak_gdp_impacts[i].to_csv(cset.path_OUT_PW / cset.PW_dataset_names[i])"
   ]
  },
  {
   "cell_type": "code",
   "execution_count": 5,
   "id": "d1716199",
   "metadata": {},
   "outputs": [],
   "source": [
    "thrshld = 1.35\n",
    "thrshld_str = '135'\n",
    "# loading & preparing glmt data \n",
    "gmt_char_df = pd.read_csv(cset.path_MESMER_char / f'gmt_characteristics_thsld_{thrshld_str}.csv', index_col = 0)\n",
    "\n",
    "# Function to extract per-ensemble-member country median for each scenario group\n",
    "def get_ensemble_medians(df, dataset_label):\n",
    "    rows = []\n",
    "    for scenario_prefix in cset.focus_scenarios:  # Add more as needed\n",
    "        scenario_cols = [col for col in df.columns if col.startswith(scenario_prefix)]\n",
    "        for col in scenario_cols:\n",
    "            country_median = df[col].median()\n",
    "            rows.append({\n",
    "                'Scenario': scenario_prefix,\n",
    "                'EnsembleMember': col,\n",
    "                'MedianValue': country_median,\n",
    "                'Dataset': dataset_label\n",
    "            })\n",
    "    return pd.DataFrame(rows)\n",
    "\n",
    "# Combine medians for all datasets\n",
    "ensemble_medians_df = pd.concat([\n",
    "    get_ensemble_medians(df, f'{dataset_names[i]}')\n",
    "    for i, df in enumerate(peak_gdp_impacts)\n",
    "])\n",
    "\n",
    "# plotting mean warming between 2015-2030 against median GDP impacts dring peak warming year \n",
    "ensemble_medians_df['gmt_ntwr'] = gmt_char_df.loc[ensemble_medians_df.EnsembleMember.values, 'gmt_ntwr'].values"
   ]
  }
 ],
 "metadata": {
  "kernelspec": {
   "display_name": "py39_mesmer-m",
   "language": "python",
   "name": "python3"
  },
  "language_info": {
   "codemirror_mode": {
    "name": "ipython",
    "version": 3
   },
   "file_extension": ".py",
   "mimetype": "text/x-python",
   "name": "python",
   "nbconvert_exporter": "python",
   "pygments_lexer": "ipython3",
   "version": "3.9.7"
  }
 },
 "nbformat": 4,
 "nbformat_minor": 5
}
