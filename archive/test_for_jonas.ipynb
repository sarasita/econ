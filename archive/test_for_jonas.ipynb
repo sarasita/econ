{
 "cells": [
  {
   "cell_type": "code",
   "execution_count": null,
   "metadata": {},
   "outputs": [],
   "source": [
    "import sys\n",
    "from pathlib import Path\n",
    "import xarray as xr\n",
    "import numpy as np\n",
    "from tqdm.notebook import tqdm\n",
    "import pandas as pd"
   ]
  },
  {
   "cell_type": "code",
   "execution_count": null,
   "metadata": {},
   "outputs": [],
   "source": [
    "# set paths to your dataset here\n",
    "# path_MESMER needs to point to the folder that contains the lfr_scenario_*.nc files \n",
    "# path_FAIR needs to point to the folder that contains the scen_*.csv files and that folder also needs to contian the ids_for_sarah.csv \n",
    "path_MESMER = Path(\"/mnt/PROVIDE/mesmer_emulations/mesmer_fair_emulations/fair_100_mesmer_10\")\n",
    "path_FAIR   = Path(\"/Users/schoens/Documents/Projekte/Econ/Data/FaIR_v3\")"
   ]
  },
  {
   "cell_type": "code",
   "execution_count": null,
   "metadata": {},
   "outputs": [],
   "source": [
    "# for a specified scenario, loop over all available lfr_*.nc files,\n",
    "# select the output from a specific model and calculate the global land mean temperature (glmt)\n",
    "# as MESMER only introduces a linear scaling in the forced response, the relationship between \n",
    "# different glmt should resembe that between global mean temperautre trajectories\n",
    "scenario = 'CurPol'\n",
    "# load data \n",
    "glmt = np.zeros((100, 251))\n",
    "for i in tqdm(range(100), total = 100): \n",
    "    tas          = xr.load_dataset(path_MESMER / f'lfr_{scenario}_{i}.nc').sel(mesmer_esm_calibration = 'ACCESS-CM2')\n",
    "    # spatial aggregation\n",
    "    weights      = np.cos(np.deg2rad(tas.lat))\n",
    "    weights.name = \"weights\"\n",
    "    tas_fldmean  = tas.weighted(weights).mean((\"lon\", \"lat\"))\n",
    "    glmt[i, :]   = tas_fldmean['tas'].values.flatten()"
   ]
  },
  {
   "cell_type": "code",
   "execution_count": null,
   "metadata": {},
   "outputs": [],
   "source": [
    "# from all ~2000 available gmt trajectories, select the 100 that may have been used to \n",
    "# generate MESMER data \n",
    "fair_ids_100  = pd.read_csv(path_FAIR / 'ids_for_sarah.csv', sep = ',', index_col = 0)\n",
    "gmt           = pd.read_csv(path_FAIR / f'scen_{scenario}.csv', index_col = 0).loc[slice(1850,2100)].iloc[:, fair_ids_100.loc[:, scenario].values].values.T"
   ]
  },
  {
   "cell_type": "code",
   "execution_count": null,
   "metadata": {},
   "outputs": [],
   "source": [
    "# visually compare estimates; \n",
    "# check if the first 5 trajectories are similar\n",
    "# if not, it might be that the ids are correct, but not in the right oder --> plot the entire ensemble \n",
    "# and see if the overall relationships look similar\n",
    "import matplotlib.pyplot as plt\n",
    "\n",
    "plt.figure()\n",
    "plt.plot(np.linspace(1850,2100,251), glmt[:5,:].T)\n",
    "plt.show()\n",
    "plt.figure()\n",
    "plt.plot(np.linspace(1850,2100,251), gmt[:5,:].T)\n",
    "plt.show()\n",
    "\n",
    "plt.figure()\n",
    "plt.plot(np.linspace(1850,2100,251), glmt[:,:].T, color = 'C0',alpha = .2)\n",
    "plt.show()\n",
    "plt.figure()\n",
    "plt.plot(np.linspace(1850,2100,251), gmt[:,:].T, color = 'C0', alpha = .2)\n",
    "plt.show()"
   ]
  }
 ],
 "metadata": {
  "language_info": {
   "name": "python"
  }
 },
 "nbformat": 4,
 "nbformat_minor": 2
}
